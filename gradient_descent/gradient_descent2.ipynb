{
 "cells": [
  {
   "cell_type": "code",
   "execution_count": 40,
   "id": "16bc2838-5f2f-45ae-937b-13021f877d30",
   "metadata": {},
   "outputs": [],
   "source": [
    "from sklearn.datasets import make_regression\n",
    "import matplotlib.pyplot as plt\n",
    "import numpy as np\n",
    "from sklearn.model_selection import cross_val_score"
   ]
  },
  {
   "cell_type": "code",
   "execution_count": 41,
   "id": "148b574a-a805-4b85-8ea7-619dcd92518b",
   "metadata": {},
   "outputs": [],
   "source": [
    "X, y = make_regression(n_samples=100, n_features=1, n_informative=1, n_targets=1, noise=20)"
   ]
  },
  {
   "cell_type": "code",
   "execution_count": 42,
   "id": "d8fc1348-226d-4445-899e-8afbbdac5333",
   "metadata": {},
   "outputs": [
    {
     "data": {
      "text/plain": [
       "<matplotlib.collections.PathCollection at 0x1b8c49b7f50>"
      ]
     },
     "execution_count": 42,
     "metadata": {},
     "output_type": "execute_result"
    },
    {
     "data": {
      "image/png": "[encoded data removed]",
      "text/plain": [
       "<Figure size 640x480 with 1 Axes>"
      ]
     },
     "metadata": {},
     "output_type": "display_data"
    }
   ],
   "source": [
    "plt.scatter(X, y)"
   ]
  },
  {
   "cell_type": "code",
   "execution_count": 75,
   "id": "927d89f3-aef3-42fd-b63d-c3c811e127d0",
   "metadata": {},
   "outputs": [],
   "source": [
    "from sklearn.model_selection import train_test_split\n",
    "\n",
    "X_train, X_test, y_train, y_test = train_test_split(X, y, test_size=0.2, random_state=2)"
   ]
  },
  {
   "cell_type": "code",
   "execution_count": 76,
   "id": "57114835-f60d-45a6-8854-b7fe58123cf4",
   "metadata": {},
   "outputs": [],
   "source": [
    "from sklearn.linear_model import LinearRegression\n",
    "\n",
    "lr = LinearRegression()"
   ]
  },
  {
   "cell_type": "code",
   "execution_count": 77,
   "id": "9afdcd2a-271c-4884-bc72-9f044687d908",
   "metadata": {},
   "outputs": [
    {
     "name": "stdout",
     "output_type": "stream",
     "text": [
      "[63.11293391]\n",
      "-1.743073703479471\n"
     ]
    }
   ],
   "source": [
    "lr.fit(X_train, y_train)\n",
    "print(lr.coef_)\n",
    "print(lr.intercept_)"
   ]
  },
  {
   "cell_type": "code",
   "execution_count": 78,
   "id": "7ab43323-119c-471f-9bcc-5342f1811336",
   "metadata": {},
   "outputs": [
    {
     "data": {
      "text/plain": [
       "0.8764618595849097"
      ]
     },
     "execution_count": 78,
     "metadata": {},
     "output_type": "execute_result"
    }
   ],
   "source": [
    "y_pred = lr.predict(X_test)\n",
    "from sklearn.metrics import r2_score\n",
    "r2_score(y_test, y_pred)"
   ]
  },
  {
   "cell_type": "code",
   "execution_count": 79,
   "id": "1b7456f3-c617-4a61-bf30-f189714d66ac",
   "metadata": {},
   "outputs": [
    {
     "data": {
      "text/plain": [
       "np.float64(0.8562798108685239)"
      ]
     },
     "execution_count": 79,
     "metadata": {},
     "output_type": "execute_result"
    }
   ],
   "source": [
    "# R2 cross_val_score of the current data\n",
    "np.mean(cross_val_score(lr, X, y, scoring='r2', cv=10))"
   ]
  },
  {
   "cell_type": "markdown",
   "id": "b735eb22-f033-4220-a57b-58a170e4dbb4",
   "metadata": {},
   "source": [
    "# Creating Own Class for Gradient Descent"
   ]
  },
  {
   "cell_type": "code",
   "execution_count": 80,
   "id": "cd5bbcd4-08a8-488d-9bb8-b69dfc6ff8af",
   "metadata": {},
   "outputs": [],
   "source": [
    "class GDReg:\n",
    "\n",
    "    def __init__(self, learning_rate, epochs):\n",
    "        self.m = 29.19\n",
    "        self.b = -120\n",
    "        self.lr = learning_rate\n",
    "        self.epochs = epochs\n",
    "\n",
    "    def fit(self, X, y):\n",
    "        # calculate the b using gradient descent\n",
    "        # epoch is the no. of rotations to reach the minima\n",
    "        for i in range(self.epochs):\n",
    "            loss_slope_b = -2 * np.sum(y - self.m*X.ravel() - self.b)\n",
    "            loss_slope_m = -2 * np.sum((y - self.m*X.ravel() - self.b)*X.ravel())\n",
    "            self.b = self.b - (self.lr * loss_slope_b)\n",
    "            self.m = self.m - (self.lr * loss_slope_m)\n",
    "            #print(self.m, self.b)\n",
    "        print(self.m, self.b)\n",
    "    def predict(self, X):\n",
    "        return self.m * X + self.b"
   ]
  },
  {
   "cell_type": "code",
   "execution_count": 81,
   "id": "9cb70ea2-30f4-4e74-97ac-3bd83c6ea5ef",
   "metadata": {},
   "outputs": [],
   "source": [
    "gd = GDReg(0.001, 50)"
   ]
  },
  {
   "cell_type": "code",
   "execution_count": 82,
   "id": "90adbdda-4e5e-4f00-9c95-47a6898ed2f5",
   "metadata": {},
   "outputs": [
    {
     "name": "stdout",
     "output_type": "stream",
     "text": [
      "62.92791357201996 -1.8913413877789267\n"
     ]
    }
   ],
   "source": [
    "gd.fit(X_train, y_train)"
   ]
  },
  {
   "cell_type": "code",
   "execution_count": 83,
   "id": "f516e603-3d9e-4561-83f5-fe36798733ae",
   "metadata": {},
   "outputs": [],
   "source": [
    "# gd.predict(X)"
   ]
  },
  {
   "cell_type": "code",
   "execution_count": 85,
   "id": "0032c1e7-5eae-4fa4-81ff-359bc8b4246e",
   "metadata": {},
   "outputs": [
    {
     "data": {
      "text/plain": [
       "0.8763214001774107"
      ]
     },
     "execution_count": 85,
     "metadata": {},
     "output_type": "execute_result"
    }
   ],
   "source": [
    "y_pred = gd.predict(X_test)\n",
    "from sklearn.metrics import r2_score\n",
    "r2_score(y_test, y_pred)"
   ]
  },
  {
   "cell_type": "code",
   "execution_count": null,
   "id": "0a1944b6-bbef-4cb5-bf0a-b253fa59ab53",
   "metadata": {},
   "outputs": [],
   "source": []
  }
 ],
 "metadata": {
  "kernelspec": {
   "display_name": "Python 3 (ipykernel)",
   "language": "python",
   "name": "python3"
  },
  "language_info": {
   "codemirror_mode": {
    "name": "ipython",
    "version": 3
   },
   "file_extension": ".py",
   "mimetype": "text/x-python",
   "name": "python",
   "nbconvert_exporter": "python",
   "pygments_lexer": "ipython3",
   "version": "3.12.4"
  }
 },
 "nbformat": 4,
 "nbformat_minor": 5
}
